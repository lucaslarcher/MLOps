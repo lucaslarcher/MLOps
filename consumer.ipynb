{
 "cells": [
  {
   "cell_type": "code",
   "execution_count": 1,
   "id": "9e863b00-5689-41b1-952e-1f7d84c8141d",
   "metadata": {},
   "outputs": [],
   "source": [
    "import requests"
   ]
  },
  {
   "cell_type": "code",
   "execution_count": 3,
   "id": "cc3b78c0-9a2c-41c5-88cc-b60ad5652e35",
   "metadata": {},
   "outputs": [],
   "source": [
    "url = 'http://127.0.0.1:5000/lr/'"
   ]
  },
  {
   "cell_type": "code",
   "execution_count": 5,
   "id": "2ebc63c8-e617-4dea-b8fa-a4c478bd4c0c",
   "metadata": {},
   "outputs": [],
   "source": [
    "dados = {\n",
    "    \"tamanho\": 120,\n",
    "    \"ano\": 2001,\n",
    "    \"garagem\": 2\n",
    "}"
   ]
  },
  {
   "cell_type": "code",
   "execution_count": 21,
   "id": "5c4712e2-3cd0-4c2e-8417-6052f435e79b",
   "metadata": {},
   "outputs": [],
   "source": [
    "auth = requests.auth.HTTPBasicAuth('user','password')"
   ]
  },
  {
   "cell_type": "code",
   "execution_count": 23,
   "id": "9f49ed7c-36bf-4abd-b682-40c31446fb63",
   "metadata": {},
   "outputs": [],
   "source": [
    "retorno = requests.post(url, json=dados, auth=auth)"
   ]
  },
  {
   "cell_type": "code",
   "execution_count": 25,
   "id": "c048a560-896d-4cc7-89cc-de608eb37665",
   "metadata": {},
   "outputs": [
    {
     "data": {
      "text/plain": [
       "{'preco': 191436.53503831383}"
      ]
     },
     "execution_count": 25,
     "metadata": {},
     "output_type": "execute_result"
    }
   ],
   "source": [
    "retorno.json()"
   ]
  },
  {
   "cell_type": "code",
   "execution_count": null,
   "id": "c07e4b17-a451-4d64-a74e-2a46078d3b5b",
   "metadata": {},
   "outputs": [],
   "source": []
  }
 ],
 "metadata": {
  "kernelspec": {
   "display_name": "Python 3 (ipykernel)",
   "language": "python",
   "name": "python3"
  },
  "language_info": {
   "codemirror_mode": {
    "name": "ipython",
    "version": 3
   },
   "file_extension": ".py",
   "mimetype": "text/x-python",
   "name": "python",
   "nbconvert_exporter": "python",
   "pygments_lexer": "ipython3",
   "version": "3.12.4"
  }
 },
 "nbformat": 4,
 "nbformat_minor": 5
}
